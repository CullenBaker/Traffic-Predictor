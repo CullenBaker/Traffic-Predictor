{
  "nbformat": 4,
  "nbformat_minor": 0,
  "metadata": {
    "colab": {
      "name": "Traffic.ipynb",
      "provenance": [],
      "collapsed_sections": []
    },
    "kernelspec": {
      "name": "python3",
      "display_name": "Python 3"
    },
    "accelerator": "GPU"
  },
  "cells": [
    {
      "cell_type": "code",
      "metadata": {
        "id": "XU54r1EmI50_",
        "colab": {
          "base_uri": "https://localhost:8080/"
        },
        "outputId": "63e4f97b-a370-4c82-bf36-e31114752cd7"
      },
      "source": [
        "import pandas as pd\n",
        "import numpy as np\n",
        "import io\n",
        "\n",
        "from sklearn.preprocessing import MinMaxScaler\n",
        "import matplotlib as mpl\n",
        "import matplotlib.pyplot as plt\n",
        "\n",
        "from tensorflow import keras\n",
        "from tensorflow.keras import layers\n",
        "\n",
        "from google.colab import files\n",
        "from google.colab import drive\n",
        "drive.mount('/content/gdrive')"
      ],
      "execution_count": 2,
      "outputs": [
        {
          "output_type": "stream",
          "text": [
            "Mounted at /content/gdrive\n"
          ],
          "name": "stdout"
        }
      ]
    },
    {
      "cell_type": "code",
      "metadata": {
        "id": "w7zWTlU-Jen8"
      },
      "source": [
        "data = pd.read_csv(r'/content/gdrive/My Drive/TSSData/TSSData1.csv')\n",
        "\n",
        "csvs = ['/content/gdrive/My Drive/TSSData/TSSData' + str(i) + '.csv' for i in range(2, 29)]"
      ],
      "execution_count": 3,
      "outputs": []
    },
    {
      "cell_type": "code",
      "metadata": {
        "id": "r9M9xlyWNs3Q"
      },
      "source": [
        "# Combine the various csvs obtained from https://smarterroads.org/dataset/detail/1\n",
        "\n",
        "for c in csvs:\n",
        "  d = pd.read_csv(c)\n",
        "  data = pd.concat([data, d])"
      ],
      "execution_count": 4,
      "outputs": []
    },
    {
      "cell_type": "code",
      "metadata": {
        "id": "2k7p5lorOcoT",
        "colab": {
          "base_uri": "https://localhost:8080/"
        },
        "outputId": "79c7217d-eda9-46b1-e981-992ee3b64dde"
      },
      "source": [
        "data.shape"
      ],
      "execution_count": 5,
      "outputs": [
        {
          "output_type": "execute_result",
          "data": {
            "text/plain": [
              "(21064361, 20)"
            ]
          },
          "metadata": {
            "tags": []
          },
          "execution_count": 5
        }
      ]
    },
    {
      "cell_type": "code",
      "metadata": {
        "id": "8EiO7S55RqVE"
      },
      "source": [
        "# Drop fields with no predictive power\n",
        "\n",
        "keep_cols = ['timeStamp', 'ns2:lanenum', 'ns2:occupancy', 'ns2:speed', 'ns2:volume', 'ns2:sample_period', 'ns3:pos', 'ns2:lane_direction', 'ns2:lanetype', 'ns2:mile_marker', 'ns2:routename']\n",
        "traff = data.loc[:, keep_cols]"
      ],
      "execution_count": 6,
      "outputs": []
    },
    {
      "cell_type": "code",
      "metadata": {
        "id": "FvaazmocrPPu"
      },
      "source": [
        "# Extract each aspect of time as a new column\n",
        "\n",
        "traff['month'] = pd.to_datetime(traff['timeStamp']).apply(lambda x: x.month)\n",
        "traff['day'] = pd.to_datetime(traff['timeStamp']).apply(lambda x: x.day)\n",
        "traff['hour'] = pd.to_datetime(traff['timeStamp']).apply(lambda x: x.hour)\n",
        "traff['min'] = pd.to_datetime(traff['timeStamp']).apply(lambda x: x.minute)"
      ],
      "execution_count": 7,
      "outputs": []
    },
    {
      "cell_type": "code",
      "metadata": {
        "id": "G-TSfDd9rQvS",
        "colab": {
          "base_uri": "https://localhost:8080/",
          "height": 204
        },
        "outputId": "908d0a79-bc3a-438b-daa5-5ec671e0e8f9"
      },
      "source": [
        "traff.drop('timeStamp', axis=1, inplace=True)\n",
        "traff.head()"
      ],
      "execution_count": 8,
      "outputs": [
        {
          "output_type": "execute_result",
          "data": {
            "text/html": [
              "<div>\n",
              "<style scoped>\n",
              "    .dataframe tbody tr th:only-of-type {\n",
              "        vertical-align: middle;\n",
              "    }\n",
              "\n",
              "    .dataframe tbody tr th {\n",
              "        vertical-align: top;\n",
              "    }\n",
              "\n",
              "    .dataframe thead th {\n",
              "        text-align: right;\n",
              "    }\n",
              "</style>\n",
              "<table border=\"1\" class=\"dataframe\">\n",
              "  <thead>\n",
              "    <tr style=\"text-align: right;\">\n",
              "      <th></th>\n",
              "      <th>ns2:lanenum</th>\n",
              "      <th>ns2:occupancy</th>\n",
              "      <th>ns2:speed</th>\n",
              "      <th>ns2:volume</th>\n",
              "      <th>ns2:sample_period</th>\n",
              "      <th>ns3:pos</th>\n",
              "      <th>ns2:lane_direction</th>\n",
              "      <th>ns2:lanetype</th>\n",
              "      <th>ns2:mile_marker</th>\n",
              "      <th>ns2:routename</th>\n",
              "      <th>month</th>\n",
              "      <th>day</th>\n",
              "      <th>hour</th>\n",
              "      <th>min</th>\n",
              "    </tr>\n",
              "  </thead>\n",
              "  <tbody>\n",
              "    <tr>\n",
              "      <th>0</th>\n",
              "      <td>1.0</td>\n",
              "      <td>2.0</td>\n",
              "      <td>68.0</td>\n",
              "      <td>22.0</td>\n",
              "      <td>300.0</td>\n",
              "      <td>37.6725 -77.49389</td>\n",
              "      <td>S</td>\n",
              "      <td>NORMAL</td>\n",
              "      <td>6.8</td>\n",
              "      <td>I-295S</td>\n",
              "      <td>1</td>\n",
              "      <td>1</td>\n",
              "      <td>5</td>\n",
              "      <td>59</td>\n",
              "    </tr>\n",
              "    <tr>\n",
              "      <th>1</th>\n",
              "      <td>3.0</td>\n",
              "      <td>0.0</td>\n",
              "      <td>65.0</td>\n",
              "      <td>0.0</td>\n",
              "      <td>60.0</td>\n",
              "      <td>0.036868 -7.642243</td>\n",
              "      <td>E</td>\n",
              "      <td>Main</td>\n",
              "      <td>0.0</td>\n",
              "      <td>164</td>\n",
              "      <td>1</td>\n",
              "      <td>1</td>\n",
              "      <td>5</td>\n",
              "      <td>59</td>\n",
              "    </tr>\n",
              "    <tr>\n",
              "      <th>2</th>\n",
              "      <td>4.0</td>\n",
              "      <td>2.0</td>\n",
              "      <td>81.0</td>\n",
              "      <td>5.0</td>\n",
              "      <td>60.0</td>\n",
              "      <td>0.036868 -7.642243</td>\n",
              "      <td>E</td>\n",
              "      <td>Main</td>\n",
              "      <td>0.0</td>\n",
              "      <td>164</td>\n",
              "      <td>1</td>\n",
              "      <td>1</td>\n",
              "      <td>5</td>\n",
              "      <td>59</td>\n",
              "    </tr>\n",
              "    <tr>\n",
              "      <th>3</th>\n",
              "      <td>1.0</td>\n",
              "      <td>3.0</td>\n",
              "      <td>63.0</td>\n",
              "      <td>7.0</td>\n",
              "      <td>60.0</td>\n",
              "      <td>36.79414 -76.38933</td>\n",
              "      <td>W</td>\n",
              "      <td>Main</td>\n",
              "      <td>0.0</td>\n",
              "      <td>I-264</td>\n",
              "      <td>1</td>\n",
              "      <td>1</td>\n",
              "      <td>5</td>\n",
              "      <td>59</td>\n",
              "    </tr>\n",
              "    <tr>\n",
              "      <th>4</th>\n",
              "      <td>2.0</td>\n",
              "      <td>4.0</td>\n",
              "      <td>58.0</td>\n",
              "      <td>10.0</td>\n",
              "      <td>60.0</td>\n",
              "      <td>36.79414 -76.38933</td>\n",
              "      <td>W</td>\n",
              "      <td>Main</td>\n",
              "      <td>0.0</td>\n",
              "      <td>I-264</td>\n",
              "      <td>1</td>\n",
              "      <td>1</td>\n",
              "      <td>5</td>\n",
              "      <td>59</td>\n",
              "    </tr>\n",
              "  </tbody>\n",
              "</table>\n",
              "</div>"
            ],
            "text/plain": [
              "   ns2:lanenum  ns2:occupancy  ns2:speed  ns2:volume  ...  month day hour min\n",
              "0          1.0            2.0       68.0        22.0  ...      1   1    5  59\n",
              "1          3.0            0.0       65.0         0.0  ...      1   1    5  59\n",
              "2          4.0            2.0       81.0         5.0  ...      1   1    5  59\n",
              "3          1.0            3.0       63.0         7.0  ...      1   1    5  59\n",
              "4          2.0            4.0       58.0        10.0  ...      1   1    5  59\n",
              "\n",
              "[5 rows x 14 columns]"
            ]
          },
          "metadata": {
            "tags": []
          },
          "execution_count": 8
        }
      ]
    },
    {
      "cell_type": "code",
      "metadata": {
        "id": "V5Jv-gaUSIj5",
        "colab": {
          "base_uri": "https://localhost:8080/"
        },
        "outputId": "e0160877-1fd3-4c64-dd6c-fb2f56c73bbe"
      },
      "source": [
        "traff.shape"
      ],
      "execution_count": 9,
      "outputs": [
        {
          "output_type": "execute_result",
          "data": {
            "text/plain": [
              "(21064361, 14)"
            ]
          },
          "metadata": {
            "tags": []
          },
          "execution_count": 9
        }
      ]
    },
    {
      "cell_type": "code",
      "metadata": {
        "id": "aewiSrItW_lI"
      },
      "source": [
        "traff.to_csv('trafficdata_full')"
      ],
      "execution_count": 11,
      "outputs": []
    },
    {
      "cell_type": "code",
      "metadata": {
        "id": "Lzzblm8qYprm"
      },
      "source": [
        "traff = pd.read_csv('trafficdata_full')"
      ],
      "execution_count": null,
      "outputs": []
    },
    {
      "cell_type": "code",
      "metadata": {
        "id": "GZgZ7P-hyXj5",
        "colab": {
          "base_uri": "https://localhost:8080/"
        },
        "outputId": "711cbfac-f918-4513-f3e9-f21fd487a46a"
      },
      "source": [
        "# Initially focus on a single route of traffic and expand later\n",
        "\n",
        "traff = traff[(traff['ns2:routename'] == '164') & (traff['ns2:lanenum'] == 1)]\n",
        "traff.shape"
      ],
      "execution_count": 13,
      "outputs": [
        {
          "output_type": "execute_result",
          "data": {
            "text/plain": [
              "(39380, 14)"
            ]
          },
          "metadata": {
            "tags": []
          },
          "execution_count": 13
        }
      ]
    },
    {
      "cell_type": "code",
      "metadata": {
        "id": "rPfb2WZqVaCE"
      },
      "source": [
        "# Create latitude and logitude columns\r\n",
        "\r\n",
        "traff[['lat','long']] = traff['ns3:pos'].str.split(expand=True)"
      ],
      "execution_count": 14,
      "outputs": []
    },
    {
      "cell_type": "code",
      "metadata": {
        "id": "1lvrfYbBl9JC"
      },
      "source": [
        "traffic = traff.drop(['ns3:pos', 'ns2:lane_direction', 'ns2:lanetype', 'ns2:routename', 'ns2:lanenum'], axis=1)"
      ],
      "execution_count": 20,
      "outputs": []
    },
    {
      "cell_type": "code",
      "metadata": {
        "id": "XWCH21RYuYMw",
        "colab": {
          "base_uri": "https://localhost:8080/",
          "height": 204
        },
        "outputId": "0871c423-09c1-4b91-ecb3-5a03b53f286e"
      },
      "source": [
        "# Sort columns by time to ensure the correct ordering (add year when looking further back)\r\n",
        "\r\n",
        "traffic = traffic.sort_values(['month', 'day', 'hour', 'min'], ascending=[True, True, True, True])\r\n",
        "traffic.head()"
      ],
      "execution_count": 21,
      "outputs": [
        {
          "output_type": "execute_result",
          "data": {
            "text/html": [
              "<div>\n",
              "<style scoped>\n",
              "    .dataframe tbody tr th:only-of-type {\n",
              "        vertical-align: middle;\n",
              "    }\n",
              "\n",
              "    .dataframe tbody tr th {\n",
              "        vertical-align: top;\n",
              "    }\n",
              "\n",
              "    .dataframe thead th {\n",
              "        text-align: right;\n",
              "    }\n",
              "</style>\n",
              "<table border=\"1\" class=\"dataframe\">\n",
              "  <thead>\n",
              "    <tr style=\"text-align: right;\">\n",
              "      <th></th>\n",
              "      <th>ns2:occupancy</th>\n",
              "      <th>ns2:speed</th>\n",
              "      <th>ns2:volume</th>\n",
              "      <th>ns2:sample_period</th>\n",
              "      <th>ns2:mile_marker</th>\n",
              "      <th>month</th>\n",
              "      <th>day</th>\n",
              "      <th>hour</th>\n",
              "      <th>min</th>\n",
              "      <th>lat</th>\n",
              "      <th>long</th>\n",
              "    </tr>\n",
              "  </thead>\n",
              "  <tbody>\n",
              "    <tr>\n",
              "      <th>13</th>\n",
              "      <td>1.0</td>\n",
              "      <td>58.0</td>\n",
              "      <td>3.0</td>\n",
              "      <td>60.0</td>\n",
              "      <td>0.0</td>\n",
              "      <td>1</td>\n",
              "      <td>1</td>\n",
              "      <td>5</td>\n",
              "      <td>59</td>\n",
              "      <td>0.368595</td>\n",
              "      <td>-7.634928</td>\n",
              "    </tr>\n",
              "    <tr>\n",
              "      <th>16</th>\n",
              "      <td>1.0</td>\n",
              "      <td>46.0</td>\n",
              "      <td>1.0</td>\n",
              "      <td>60.0</td>\n",
              "      <td>0.0</td>\n",
              "      <td>1</td>\n",
              "      <td>1</td>\n",
              "      <td>5</td>\n",
              "      <td>59</td>\n",
              "      <td>3.687296</td>\n",
              "      <td>-7.637849</td>\n",
              "    </tr>\n",
              "    <tr>\n",
              "      <th>25</th>\n",
              "      <td>3.0</td>\n",
              "      <td>60.0</td>\n",
              "      <td>6.0</td>\n",
              "      <td>60.0</td>\n",
              "      <td>0.0</td>\n",
              "      <td>1</td>\n",
              "      <td>1</td>\n",
              "      <td>5</td>\n",
              "      <td>59</td>\n",
              "      <td>3.686817</td>\n",
              "      <td>-7.636024</td>\n",
              "    </tr>\n",
              "    <tr>\n",
              "      <th>486</th>\n",
              "      <td>7.0</td>\n",
              "      <td>61.0</td>\n",
              "      <td>17.0</td>\n",
              "      <td>60.0</td>\n",
              "      <td>0.0</td>\n",
              "      <td>1</td>\n",
              "      <td>1</td>\n",
              "      <td>5</td>\n",
              "      <td>59</td>\n",
              "      <td>3.687241</td>\n",
              "      <td>-7.639407</td>\n",
              "    </tr>\n",
              "    <tr>\n",
              "      <th>490</th>\n",
              "      <td>3.0</td>\n",
              "      <td>58.0</td>\n",
              "      <td>5.0</td>\n",
              "      <td>60.0</td>\n",
              "      <td>0.0</td>\n",
              "      <td>1</td>\n",
              "      <td>1</td>\n",
              "      <td>5</td>\n",
              "      <td>59</td>\n",
              "      <td>0.036868</td>\n",
              "      <td>-7.642243</td>\n",
              "    </tr>\n",
              "  </tbody>\n",
              "</table>\n",
              "</div>"
            ],
            "text/plain": [
              "     ns2:occupancy  ns2:speed  ns2:volume  ...  min       lat       long\n",
              "13             1.0       58.0         3.0  ...   59  0.368595  -7.634928\n",
              "16             1.0       46.0         1.0  ...   59  3.687296  -7.637849\n",
              "25             3.0       60.0         6.0  ...   59  3.686817  -7.636024\n",
              "486            7.0       61.0        17.0  ...   59  3.687241  -7.639407\n",
              "490            3.0       58.0         5.0  ...   59  0.036868  -7.642243\n",
              "\n",
              "[5 rows x 11 columns]"
            ]
          },
          "metadata": {
            "tags": []
          },
          "execution_count": 21
        }
      ]
    },
    {
      "cell_type": "code",
      "metadata": {
        "id": "_ec53eLjl9YL",
        "colab": {
          "base_uri": "https://localhost:8080/",
          "height": 204
        },
        "outputId": "ea7e2765-73b1-4a6f-eeac-beb0484e9793"
      },
      "source": [
        "# Scale all of the variables\r\n",
        "\r\n",
        "scaler = MinMaxScaler(feature_range=(0, 1))\r\n",
        "\r\n",
        "traffic = scaler.fit_transform(traffic)\r\n",
        "pd.DataFrame(traffic).head()"
      ],
      "execution_count": 24,
      "outputs": [
        {
          "output_type": "execute_result",
          "data": {
            "text/html": [
              "<div>\n",
              "<style scoped>\n",
              "    .dataframe tbody tr th:only-of-type {\n",
              "        vertical-align: middle;\n",
              "    }\n",
              "\n",
              "    .dataframe tbody tr th {\n",
              "        vertical-align: top;\n",
              "    }\n",
              "\n",
              "    .dataframe thead th {\n",
              "        text-align: right;\n",
              "    }\n",
              "</style>\n",
              "<table border=\"1\" class=\"dataframe\">\n",
              "  <thead>\n",
              "    <tr style=\"text-align: right;\">\n",
              "      <th></th>\n",
              "      <th>0</th>\n",
              "      <th>1</th>\n",
              "      <th>2</th>\n",
              "      <th>3</th>\n",
              "      <th>4</th>\n",
              "      <th>5</th>\n",
              "      <th>6</th>\n",
              "      <th>7</th>\n",
              "      <th>8</th>\n",
              "      <th>9</th>\n",
              "      <th>10</th>\n",
              "    </tr>\n",
              "  </thead>\n",
              "  <tbody>\n",
              "    <tr>\n",
              "      <th>0</th>\n",
              "      <td>0.016667</td>\n",
              "      <td>0.595745</td>\n",
              "      <td>0.075</td>\n",
              "      <td>0.0</td>\n",
              "      <td>0.0</td>\n",
              "      <td>0.0</td>\n",
              "      <td>0.0</td>\n",
              "      <td>0.217391</td>\n",
              "      <td>1.0</td>\n",
              "      <td>0.090873</td>\n",
              "      <td>1.000000</td>\n",
              "    </tr>\n",
              "    <tr>\n",
              "      <th>1</th>\n",
              "      <td>0.016667</td>\n",
              "      <td>0.468085</td>\n",
              "      <td>0.025</td>\n",
              "      <td>0.0</td>\n",
              "      <td>0.0</td>\n",
              "      <td>0.0</td>\n",
              "      <td>0.0</td>\n",
              "      <td>0.217391</td>\n",
              "      <td>1.0</td>\n",
              "      <td>1.000000</td>\n",
              "      <td>0.600684</td>\n",
              "    </tr>\n",
              "    <tr>\n",
              "      <th>2</th>\n",
              "      <td>0.050000</td>\n",
              "      <td>0.617021</td>\n",
              "      <td>0.150</td>\n",
              "      <td>0.0</td>\n",
              "      <td>0.0</td>\n",
              "      <td>0.0</td>\n",
              "      <td>0.0</td>\n",
              "      <td>0.217391</td>\n",
              "      <td>1.0</td>\n",
              "      <td>0.999869</td>\n",
              "      <td>0.850171</td>\n",
              "    </tr>\n",
              "    <tr>\n",
              "      <th>3</th>\n",
              "      <td>0.116667</td>\n",
              "      <td>0.627660</td>\n",
              "      <td>0.425</td>\n",
              "      <td>0.0</td>\n",
              "      <td>0.0</td>\n",
              "      <td>0.0</td>\n",
              "      <td>0.0</td>\n",
              "      <td>0.217391</td>\n",
              "      <td>1.0</td>\n",
              "      <td>0.999985</td>\n",
              "      <td>0.387697</td>\n",
              "    </tr>\n",
              "    <tr>\n",
              "      <th>4</th>\n",
              "      <td>0.050000</td>\n",
              "      <td>0.595745</td>\n",
              "      <td>0.125</td>\n",
              "      <td>0.0</td>\n",
              "      <td>0.0</td>\n",
              "      <td>0.0</td>\n",
              "      <td>0.0</td>\n",
              "      <td>0.217391</td>\n",
              "      <td>1.0</td>\n",
              "      <td>0.000000</td>\n",
              "      <td>0.000000</td>\n",
              "    </tr>\n",
              "  </tbody>\n",
              "</table>\n",
              "</div>"
            ],
            "text/plain": [
              "         0         1      2    3    4   ...   6         7    8         9         10\n",
              "0  0.016667  0.595745  0.075  0.0  0.0  ...  0.0  0.217391  1.0  0.090873  1.000000\n",
              "1  0.016667  0.468085  0.025  0.0  0.0  ...  0.0  0.217391  1.0  1.000000  0.600684\n",
              "2  0.050000  0.617021  0.150  0.0  0.0  ...  0.0  0.217391  1.0  0.999869  0.850171\n",
              "3  0.116667  0.627660  0.425  0.0  0.0  ...  0.0  0.217391  1.0  0.999985  0.387697\n",
              "4  0.050000  0.595745  0.125  0.0  0.0  ...  0.0  0.217391  1.0  0.000000  0.000000\n",
              "\n",
              "[5 rows x 11 columns]"
            ]
          },
          "metadata": {
            "tags": []
          },
          "execution_count": 24
        }
      ]
    },
    {
      "cell_type": "code",
      "metadata": {
        "id": "XP7uCVIKOeNc"
      },
      "source": [
        "def convert2ML(df, lookback = 20, train_perc = 0.7):\r\n",
        "  \"\"\" Convert the current data into a form that can be used by an LTSM. First by creating training and test sets, then by converting to time slices, and finally be reshaping \"\"\"\r\n",
        "\r\n",
        "  global look_back\r\n",
        "  look_back = lookback\r\n",
        "  # Create training and test sets\r\n",
        "  train_size = int(round(len(df) * train_perc, 0))\r\n",
        "  train = traffic[0:train_size, :]\r\n",
        "  test = traffic[train_size:-1, :]\r\n",
        "  train_y = train[(look_back+1):-1, 0]\r\n",
        "  test_y = test[(look_back+1):-1, 0]\r\n",
        "\r\n",
        "  \r\n",
        "  def structure(data, lookback):\r\n",
        "    \"\"\" Organize data to be a series of time slices equal to the lookback length \"\"\"\r\n",
        "\r\n",
        "    x = []\r\n",
        "    for i in range(lookback, data.shape[0]):\r\n",
        "      x.append(data[(i-lookback):i, :])\r\n",
        "\r\n",
        "    return np.array(x)\r\n",
        "\r\n",
        "  train = structure(train, look_back)\r\n",
        "  test = structure(test, look_back)\r\n",
        "\r\n",
        "  train_X = train[:-2, :, :]\r\n",
        "  test_X = test[:-2, :, :]\r\n",
        "  train_y = train_y.reshape(-1, 1, 1)\r\n",
        "  test_y = test_y.reshape(-1, 1, 1)\r\n",
        "\r\n",
        "  return train_X, test_X, train_y, test_y"
      ],
      "execution_count": 30,
      "outputs": []
    },
    {
      "cell_type": "code",
      "metadata": {
        "id": "PrYjds38SpD8"
      },
      "source": [
        "train_X, test_X, train_y, test_y = convert2ML(traffic, 90, 0.7)"
      ],
      "execution_count": 36,
      "outputs": []
    },
    {
      "cell_type": "code",
      "metadata": {
        "id": "uhZ_mP6QzruY",
        "colab": {
          "base_uri": "https://localhost:8080/"
        },
        "outputId": "1a71df6f-cebb-4f3c-988e-c8f30ba3d595"
      },
      "source": [
        "train_y.shape"
      ],
      "execution_count": 37,
      "outputs": [
        {
          "output_type": "execute_result",
          "data": {
            "text/plain": [
              "(27474, 1, 1)"
            ]
          },
          "metadata": {
            "tags": []
          },
          "execution_count": 37
        }
      ]
    },
    {
      "cell_type": "code",
      "metadata": {
        "id": "r_-_oC1wFGJy",
        "colab": {
          "base_uri": "https://localhost:8080/"
        },
        "outputId": "06a1409e-0586-4ec8-f68e-90701e6eb8e5"
      },
      "source": [
        "train_X.shape"
      ],
      "execution_count": 38,
      "outputs": [
        {
          "output_type": "execute_result",
          "data": {
            "text/plain": [
              "(27474, 90, 11)"
            ]
          },
          "metadata": {
            "tags": []
          },
          "execution_count": 38
        }
      ]
    },
    {
      "cell_type": "code",
      "metadata": {
        "id": "MX-s6M-CYMaQ",
        "colab": {
          "base_uri": "https://localhost:8080/"
        },
        "outputId": "5c8a2ddf-a523-40a0-8a78-35439439dbe6"
      },
      "source": [
        "model = keras.Sequential()\n",
        "\n",
        "# Add a LSTM layer with 128 internal units.\n",
        "model.add(layers.LSTM(128, input_shape=(look_back, 11)))\n",
        "\n",
        "# Add a Dense layer with 1 units.\n",
        "model.add(layers.Dense(1))\n",
        "\n",
        "model.summary()"
      ],
      "execution_count": 39,
      "outputs": [
        {
          "output_type": "stream",
          "text": [
            "Model: \"sequential_2\"\n",
            "_________________________________________________________________\n",
            "Layer (type)                 Output Shape              Param #   \n",
            "=================================================================\n",
            "lstm_1 (LSTM)                (None, 128)               71680     \n",
            "_________________________________________________________________\n",
            "dense_1 (Dense)              (None, 1)                 129       \n",
            "=================================================================\n",
            "Total params: 71,809\n",
            "Trainable params: 71,809\n",
            "Non-trainable params: 0\n",
            "_________________________________________________________________\n"
          ],
          "name": "stdout"
        }
      ]
    },
    {
      "cell_type": "code",
      "metadata": {
        "id": "gqWDC9iQaZdW",
        "colab": {
          "base_uri": "https://localhost:8080/"
        },
        "outputId": "3bafc533-b0df-49ee-9176-a7abd25761cc"
      },
      "source": [
        "model.compile(loss=\"mse\", optimizer=keras.optimizers.Adam(learning_rate=0.001))\n",
        "history = model.fit(train_X, train_y, epochs=30,\n",
        "                    validation_data=(test_X, test_y))"
      ],
      "execution_count": 40,
      "outputs": [
        {
          "output_type": "stream",
          "text": [
            "Epoch 1/30\n",
            "859/859 [==============================] - 7s 7ms/step - loss: 0.0039 - val_loss: 0.0011\n",
            "Epoch 2/30\n",
            "859/859 [==============================] - 6s 7ms/step - loss: 0.0012 - val_loss: 7.2923e-04\n",
            "Epoch 3/30\n",
            "859/859 [==============================] - 6s 7ms/step - loss: 0.0011 - val_loss: 7.2972e-04\n",
            "Epoch 4/30\n",
            "859/859 [==============================] - 6s 7ms/step - loss: 0.0011 - val_loss: 8.7842e-04\n",
            "Epoch 5/30\n",
            "859/859 [==============================] - 6s 7ms/step - loss: 0.0011 - val_loss: 7.6000e-04\n",
            "Epoch 6/30\n",
            "859/859 [==============================] - 6s 7ms/step - loss: 0.0010 - val_loss: 7.5896e-04\n",
            "Epoch 7/30\n",
            "859/859 [==============================] - 6s 7ms/step - loss: 0.0011 - val_loss: 7.0312e-04\n",
            "Epoch 8/30\n",
            "859/859 [==============================] - 6s 7ms/step - loss: 0.0012 - val_loss: 6.8066e-04\n",
            "Epoch 9/30\n",
            "859/859 [==============================] - 6s 7ms/step - loss: 0.0010 - val_loss: 8.7747e-04\n",
            "Epoch 10/30\n",
            "859/859 [==============================] - 6s 7ms/step - loss: 0.0010 - val_loss: 9.3789e-04\n",
            "Epoch 11/30\n",
            "859/859 [==============================] - 6s 7ms/step - loss: 0.0011 - val_loss: 6.9272e-04\n",
            "Epoch 12/30\n",
            "859/859 [==============================] - 6s 7ms/step - loss: 0.0010 - val_loss: 6.8760e-04\n",
            "Epoch 13/30\n",
            "859/859 [==============================] - 6s 7ms/step - loss: 0.0011 - val_loss: 8.8231e-04\n",
            "Epoch 14/30\n",
            "859/859 [==============================] - 6s 7ms/step - loss: 9.8946e-04 - val_loss: 6.7831e-04\n",
            "Epoch 15/30\n",
            "859/859 [==============================] - 6s 7ms/step - loss: 9.9715e-04 - val_loss: 6.7845e-04\n",
            "Epoch 16/30\n",
            "859/859 [==============================] - 6s 7ms/step - loss: 9.9923e-04 - val_loss: 7.0003e-04\n",
            "Epoch 17/30\n",
            "859/859 [==============================] - 6s 7ms/step - loss: 9.8685e-04 - val_loss: 6.7953e-04\n",
            "Epoch 18/30\n",
            "859/859 [==============================] - 6s 7ms/step - loss: 9.8570e-04 - val_loss: 7.3269e-04\n",
            "Epoch 19/30\n",
            "859/859 [==============================] - 6s 7ms/step - loss: 9.7274e-04 - val_loss: 6.8096e-04\n",
            "Epoch 20/30\n",
            "859/859 [==============================] - 6s 7ms/step - loss: 9.7111e-04 - val_loss: 7.5339e-04\n",
            "Epoch 21/30\n",
            "859/859 [==============================] - 6s 7ms/step - loss: 9.8036e-04 - val_loss: 6.9508e-04\n",
            "Epoch 22/30\n",
            "859/859 [==============================] - 6s 7ms/step - loss: 0.0010 - val_loss: 6.5728e-04\n",
            "Epoch 23/30\n",
            "859/859 [==============================] - 6s 7ms/step - loss: 9.8564e-04 - val_loss: 6.7708e-04\n",
            "Epoch 24/30\n",
            "859/859 [==============================] - 6s 7ms/step - loss: 0.0010 - val_loss: 6.5768e-04\n",
            "Epoch 25/30\n",
            "859/859 [==============================] - 6s 7ms/step - loss: 9.4672e-04 - val_loss: 6.8417e-04\n",
            "Epoch 26/30\n",
            "859/859 [==============================] - 6s 7ms/step - loss: 9.7034e-04 - val_loss: 6.6981e-04\n",
            "Epoch 27/30\n",
            "859/859 [==============================] - 6s 7ms/step - loss: 9.6022e-04 - val_loss: 7.4190e-04\n",
            "Epoch 28/30\n",
            "859/859 [==============================] - 6s 7ms/step - loss: 9.1212e-04 - val_loss: 7.6359e-04\n",
            "Epoch 29/30\n",
            "859/859 [==============================] - 6s 7ms/step - loss: 9.4237e-04 - val_loss: 7.0639e-04\n",
            "Epoch 30/30\n",
            "859/859 [==============================] - 6s 7ms/step - loss: 9.7306e-04 - val_loss: 7.1608e-04\n"
          ],
          "name": "stdout"
        }
      ]
    },
    {
      "cell_type": "code",
      "metadata": {
        "id": "IxHQGQF7aZgZ",
        "colab": {
          "base_uri": "https://localhost:8080/",
          "height": 283
        },
        "outputId": "22eb1443-d26a-424a-94f0-43dc80002df1"
      },
      "source": [
        "# Plot the training progress\n",
        "\n",
        "def plot_learning_curves(loss, val_loss, epochs = 30):\n",
        "    plt.plot(np.arange(len(loss)) + 0.5, loss, \"b.-\", label=\"Training loss\")\n",
        "    plt.plot(np.arange(len(val_loss)) + 1, val_loss, \"r.-\", label=\"Validation loss\")\n",
        "    plt.gca().xaxis.set_major_locator(mpl.ticker.MaxNLocator(integer=True))\n",
        "    plt.axis([1, epochs + 1, 0, 0.002])\n",
        "    plt.legend(fontsize=14)\n",
        "    plt.xlabel(\"Epochs\")\n",
        "    plt.ylabel(\"Loss\")\n",
        "    plt.grid(True)\n",
        "    \n",
        "plot_learning_curves(history.history[\"loss\"], history.history[\"val_loss\"])\n",
        "plt.show()"
      ],
      "execution_count": 48,
      "outputs": [
        {
          "output_type": "display_data",
          "data": {
            "image/png": "[encoded data removed]",
            "text/plain": [
              "<Figure size 432x288 with 1 Axes>"
            ]
          },
          "metadata": {
            "tags": [],
            "needs_background": "light"
          }
        }
      ]
    },
    {
      "cell_type": "code",
      "metadata": {
        "id": "fCvAvGeA630e"
      },
      "source": [
        "y1 = np.squeeze(model.predict(test_X))[0:100]\n",
        "y2 = np.squeeze(test_y)[0:100]"
      ],
      "execution_count": 43,
      "outputs": []
    },
    {
      "cell_type": "code",
      "metadata": {
        "id": "DFGjtndF6149"
      },
      "source": [
        "x = np.arange(len(test_y))[0:100]"
      ],
      "execution_count": 44,
      "outputs": []
    },
    {
      "cell_type": "code",
      "metadata": {
        "id": "Ev2b1Fy3aZp4",
        "colab": {
          "base_uri": "https://localhost:8080/",
          "height": 312
        },
        "outputId": "bfba4196-c438-4450-8bea-e8812a6acff0"
      },
      "source": [
        "# Plot the model predictions versus realized occupancy rates for the first 100 observations\n",
        "\n",
        "plt.plot(x, y1, label='prediction')\n",
        "plt.plot(x, y2, label='real')\n",
        "plt.legend(loc=\"lower right\")\n",
        "plt.xlabel('Time')\n",
        "plt.ylabel('Scaled Occupancy')\n",
        "plt.title('Occupancy Predictions')"
      ],
      "execution_count": 45,
      "outputs": [
        {
          "output_type": "execute_result",
          "data": {
            "text/plain": [
              "Text(0.5, 1.0, 'Occupancy Predictions')"
            ]
          },
          "metadata": {
            "tags": []
          },
          "execution_count": 45
        },
        {
          "output_type": "display_data",
          "data": {
            "image/png": "[encoded data removed]",
            "text/plain": [
              "<Figure size 432x288 with 1 Axes>"
            ]
          },
          "metadata": {
            "tags": [],
            "needs_background": "light"
          }
        }
      ]
    },
    {
      "cell_type": "code",
      "metadata": {
        "id": "TIXDtucfQDIq",
        "colab": {
          "base_uri": "https://localhost:8080/"
        },
        "outputId": "cf7cd4c8-7d08-4cd7-91d2-986eb413d5ff"
      },
      "source": [
        "import os\n",
        "import tensorflow as tf\n",
        "\n",
        "model_version = \"0001\"\n",
        "model_name = \"traffic_data_model\"\n",
        "model_path = os.path.join(model_name, model_version)\n",
        "tf.saved_model.save(model, model_path)"
      ],
      "execution_count": null,
      "outputs": [
        {
          "output_type": "stream",
          "text": [
            "WARNING:tensorflow:From /usr/local/lib/python3.6/dist-packages/tensorflow/python/training/tracking/tracking.py:111: Model.state_updates (from tensorflow.python.keras.engine.training) is deprecated and will be removed in a future version.\n",
            "Instructions for updating:\n",
            "This property should not be used in TensorFlow 2.0, as updates are applied automatically.\n",
            "WARNING:tensorflow:From /usr/local/lib/python3.6/dist-packages/tensorflow/python/training/tracking/tracking.py:111: Layer.updates (from tensorflow.python.keras.engine.base_layer) is deprecated and will be removed in a future version.\n",
            "Instructions for updating:\n",
            "This property should not be used in TensorFlow 2.0, as updates are applied automatically.\n",
            "INFO:tensorflow:Assets written to: traffic_data_model/0001/assets\n"
          ],
          "name": "stdout"
        }
      ]
    },
    {
      "cell_type": "code",
      "metadata": {
        "colab": {
          "base_uri": "https://localhost:8080/"
        },
        "id": "bkB2mGj3lbCi",
        "outputId": "e2fe67e6-bd05-4836-ce7d-ce3ab623d2ea"
      },
      "source": [
        "!zip -r /content/model.zip /content/traffic_data_model/"
      ],
      "execution_count": null,
      "outputs": [
        {
          "output_type": "stream",
          "text": [
            "  adding: content/traffic_data_model/ (stored 0%)\n",
            "  adding: content/traffic_data_model/0001/ (stored 0%)\n",
            "  adding: content/traffic_data_model/0001/variables/ (stored 0%)\n",
            "  adding: content/traffic_data_model/0001/variables/variables.index (deflated 58%)\n",
            "  adding: content/traffic_data_model/0001/variables/variables.data-00000-of-00001 (deflated 7%)\n",
            "  adding: content/traffic_data_model/0001/assets/ (stored 0%)\n",
            "  adding: content/traffic_data_model/0001/saved_model.pb (deflated 90%)\n"
          ],
          "name": "stdout"
        }
      ]
    }
  ]
}